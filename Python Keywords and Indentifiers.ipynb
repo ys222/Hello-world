{
 "cells": [
  {
   "cell_type": "markdown",
   "id": "64f8aa50",
   "metadata": {},
   "source": [
    "# Python Keywords\n",
    "\n",
    "Keywords are the reserved words in python.\n",
    "we can't use a keyword as identifier, Variable names and any other function names\n",
    "Keywords are case Sensitive"
   ]
  },
  {
   "cell_type": "code",
   "execution_count": 2,
   "id": "4068d388",
   "metadata": {},
   "outputs": [
    {
     "name": "stdout",
     "output_type": "stream",
     "text": [
      "['False', 'None', 'True', 'and', 'as', 'assert', 'async', 'await', 'break', 'class', 'continue', 'def', 'del', 'elif', 'else', 'except', 'finally', 'for', 'from', 'global', 'if', 'import', 'in', 'is', 'lambda', 'nonlocal', 'not', 'or', 'pass', 'raise', 'return', 'try', 'while', 'with', 'yield']\n",
      "\n",
      " Total number of keyword:  35\n"
     ]
    }
   ],
   "source": [
    "# Get All Keywords in Python 3.6\n",
    "import keyword\n",
    "print(keyword.kwlist)\n",
    "print(\"\\n Total number of keyword: \", len(keyword.kwlist))"
   ]
  },
  {
   "cell_type": "markdown",
   "id": "f6ecb66c",
   "metadata": {},
   "source": [
    "# Identifiers\n",
    "\n",
    "The identifier is a name used to identify a variable, function, class, module, etc.\n",
    "The identifier is a combination of character digits and underscore. The identifier should start with a character or Underscore then use a digit.\n",
    " The characters are A-Z or a-z, an UnderScore ( _ ) , and digit (0-9)\n",
    " we should not use special characters ( #, @, $, %, ! ) in identifiers.\n",
    " keywords can't use as identifiers"
   ]
  },
  {
   "cell_type": "code",
   "execution_count": 4,
   "id": "ce048237",
   "metadata": {},
   "outputs": [
    {
     "ename": "SyntaxError",
     "evalue": "invalid syntax (<ipython-input-4-77307fd19c8f>, line 2)",
     "output_type": "error",
     "traceback": [
      "\u001b[1;36m  File \u001b[1;32m\"<ipython-input-4-77307fd19c8f>\"\u001b[1;36m, line \u001b[1;32m2\u001b[0m\n\u001b[1;33m    global = 1;\u001b[0m\n\u001b[1;37m           ^\u001b[0m\n\u001b[1;31mSyntaxError\u001b[0m\u001b[1;31m:\u001b[0m invalid syntax\n"
     ]
    }
   ],
   "source": [
    "abc_12 = 12;\n",
    "global = 1;"
   ]
  },
  {
   "cell_type": "code",
   "execution_count": 5,
   "id": "e7188ce0",
   "metadata": {},
   "outputs": [
    {
     "ename": "SyntaxError",
     "evalue": "invalid syntax (<ipython-input-5-45b8206538e7>, line 1)",
     "output_type": "error",
     "traceback": [
      "\u001b[1;36m  File \u001b[1;32m\"<ipython-input-5-45b8206538e7>\"\u001b[1;36m, line \u001b[1;32m1\u001b[0m\n\u001b[1;33m    a@ = 10;\u001b[0m\n\u001b[1;37m       ^\u001b[0m\n\u001b[1;31mSyntaxError\u001b[0m\u001b[1;31m:\u001b[0m invalid syntax\n"
     ]
    }
   ],
   "source": [
    "a@ = 10;"
   ]
  },
  {
   "cell_type": "code",
   "execution_count": null,
   "id": "977f9fce",
   "metadata": {},
   "outputs": [],
   "source": []
  }
 ],
 "metadata": {
  "kernelspec": {
   "display_name": "Python 3",
   "language": "python",
   "name": "python3"
  },
  "language_info": {
   "codemirror_mode": {
    "name": "ipython",
    "version": 3
   },
   "file_extension": ".py",
   "mimetype": "text/x-python",
   "name": "python",
   "nbconvert_exporter": "python",
   "pygments_lexer": "ipython3",
   "version": "3.8.8"
  }
 },
 "nbformat": 4,
 "nbformat_minor": 5
}
