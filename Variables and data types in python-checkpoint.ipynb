{
 "cells": [
  {
   "cell_type": "markdown",
   "id": "1785cd5a",
   "metadata": {},
   "source": [
    "# Variables and Data Types in Python\n",
    "\n",
    "A variable is a name given to a memory location. It is the basic unit of storage in a program.\n",
    "The value stored in a variable can be changed during program execution.\n",
    "A variable is only a name given to a memory location, all the operations done on the variable effects that memory location.\n",
    "We do not need to declare variables before using them or declare their type. A variable is created the moment we first assign a value to it."
   ]
  },
  {
   "cell_type": "markdown",
   "id": "cf428ae6",
   "metadata": {},
   "source": [
    "# Variables Assigments"
   ]
  },
  {
   "cell_type": "code",
   "execution_count": 1,
   "id": "2d7b3f70",
   "metadata": {},
   "outputs": [],
   "source": [
    "# we use assignment operator (=) to assign values to a variables\n",
    "a = 10\n",
    "b = 5.5\n",
    "c = \"ML\""
   ]
  },
  {
   "cell_type": "markdown",
   "id": "34e6ae1e",
   "metadata": {},
   "source": [
    "# Multiple Assigments"
   ]
  },
  {
   "cell_type": "code",
   "execution_count": 3,
   "id": "ed983d81",
   "metadata": {},
   "outputs": [],
   "source": [
    "a, b, c, = \"ML\", 5.5, 10"
   ]
  },
  {
   "cell_type": "code",
   "execution_count": 4,
   "id": "d3db16e3",
   "metadata": {},
   "outputs": [],
   "source": [
    "a = b = c = \"AI\" #assign the same value to multiple variables at once"
   ]
  },
  {
   "cell_type": "markdown",
   "id": "d611dd78",
   "metadata": {},
   "source": [
    "# Storage Locations"
   ]
  },
  {
   "cell_type": "code",
   "execution_count": 3,
   "id": "6db74d89",
   "metadata": {},
   "outputs": [
    {
     "name": "stdout",
     "output_type": "stream",
     "text": [
      "140708315211632\n"
     ]
    }
   ],
   "source": [
    "x = 3\n",
    "\n",
    "print(id(x))      # print address of variable x"
   ]
  },
  {
   "cell_type": "code",
   "execution_count": 4,
   "id": "938f2c65",
   "metadata": {},
   "outputs": [
    {
     "name": "stdout",
     "output_type": "stream",
     "text": [
      "140708315211632\n"
     ]
    }
   ],
   "source": [
    "y = 3\n",
    "\n",
    "print(id(y))     # print the address of variable y"
   ]
  },
  {
   "cell_type": "markdown",
   "id": "ed7a2794",
   "metadata": {},
   "source": [
    "observation:\n",
    "\n",
    "X and y has same  memory locations"
   ]
  },
  {
   "cell_type": "code",
   "execution_count": 5,
   "id": "c3e9ed12",
   "metadata": {},
   "outputs": [
    {
     "name": "stdout",
     "output_type": "stream",
     "text": [
      "140708315211600\n"
     ]
    }
   ],
   "source": [
    "y = 2\n",
    "print(id(y))   # print the address of variable y"
   ]
  },
  {
   "cell_type": "markdown",
   "id": "e6221fcd",
   "metadata": {},
   "source": [
    "# Data Types\n",
    "\n",
    "In programming, data type is an important concept.\n",
    "\n",
    "Variables can store data of different types, and different types can do different things.\n",
    "\n",
    "Python has the following data types built-in by default,"
   ]
  },
  {
   "cell_type": "markdown",
   "id": "0af9910b",
   "metadata": {},
   "source": [
    "# Numbers\n",
    "\n",
    "In Python, numeric data type represent the data which has numeric value. Numeric value can be integer, floating number or even complex numbers. These values are defined as int, float and complex class in Python.\n",
    "\n",
    "Note – type() function is used to determine the type of data type."
   ]
  },
  {
   "cell_type": "code",
   "execution_count": 6,
   "id": "6b2c3958",
   "metadata": {},
   "outputs": [
    {
     "name": "stdout",
     "output_type": "stream",
     "text": [
      "5 is of type <class 'int'>\n"
     ]
    }
   ],
   "source": [
    "a = 5                          #data type is implicitily to the integer\n",
    "print(a, \"is of type\", type(a))"
   ]
  },
  {
   "cell_type": "code",
   "execution_count": 7,
   "id": "1b75b129",
   "metadata": {},
   "outputs": [
    {
     "name": "stdout",
     "output_type": "stream",
     "text": [
      "2.5 is of type <class 'float'>\n"
     ]
    }
   ],
   "source": [
    "a = 2.5                        #data type is implicitily to the Floating  \n",
    "print(a, \"is of type\", type(a))"
   ]
  },
  {
   "cell_type": "code",
   "execution_count": 9,
   "id": "424775c2",
   "metadata": {},
   "outputs": [
    {
     "name": "stdout",
     "output_type": "stream",
     "text": [
      "(1+2j) is a complex number?\n",
      "True\n",
      "<class 'complex'>\n"
     ]
    }
   ],
   "source": [
    "a = 1 + 2j                       #data type is implicitily to the complex number \n",
    "print(a, \"is a complex number?\")\n",
    "print(isinstance(1 +2j , complex))\n",
    "print(type(a))"
   ]
  },
  {
   "cell_type": "markdown",
   "id": "bc4b07da",
   "metadata": {},
   "source": [
    "# Boolean \n",
    "\n",
    "Data type with one of the two built-in values, True or False. Boolean objects that are equal to True are truthy (true), and those equal to False are falsy (false)."
   ]
  },
  {
   "cell_type": "code",
   "execution_count": 10,
   "id": "b74f1dbe",
   "metadata": {},
   "outputs": [
    {
     "name": "stdout",
     "output_type": "stream",
     "text": [
      "<class 'bool'>\n"
     ]
    }
   ],
   "source": [
    "a = True                     #data type is implicitily boolean\n",
    "print(type(a))"
   ]
  },
  {
   "cell_type": "markdown",
   "id": "bfe0cc04",
   "metadata": {},
   "source": [
    "# Python Strings\n",
    "\n",
    "In Python, Strings are arrays of bytes representing Unicode characters. A string is a collection of one or more characters put in a single quote, double-quote or triple quote. In python there is no character data type, a character is a string of length one. It is represented by str class.\n",
    "\n",
    "Creating String\n",
    "Strings in Python can be created using single quotes or double quotes or even triple quotes.\n",
    "\n",
    "Strings can be indexed - often called subscripted well\n",
    "Similar to C, the first character of strings is indexed to '0'."
   ]
  },
  {
   "cell_type": "code",
   "execution_count": 2,
   "id": "67cfd613",
   "metadata": {},
   "outputs": [
    {
     "name": "stdout",
     "output_type": "stream",
     "text": [
      "This is a Dog\n"
     ]
    }
   ],
   "source": [
    "s = \"This is a Dog\"\n",
    "print(s)"
   ]
  },
  {
   "cell_type": "code",
   "execution_count": 3,
   "id": "150ad7f4",
   "metadata": {},
   "outputs": [
    {
     "name": "stdout",
     "output_type": "stream",
     "text": [
      "T\n"
     ]
    }
   ],
   "source": [
    "print(s[0])\n",
    "#last char s[len(s) - 1] or s[-1]"
   ]
  },
  {
   "cell_type": "code",
   "execution_count": 4,
   "id": "49a1578e",
   "metadata": {},
   "outputs": [
    {
     "data": {
      "text/plain": [
       "'g'"
      ]
     },
     "execution_count": 4,
     "metadata": {},
     "output_type": "execute_result"
    }
   ],
   "source": [
    "#Slicing\n",
    "s[-1]"
   ]
  },
  {
   "cell_type": "code",
   "execution_count": 5,
   "id": "e97efb3e",
   "metadata": {},
   "outputs": [
    {
     "data": {
      "text/plain": [
       "'is a Dog'"
      ]
     },
     "execution_count": 5,
     "metadata": {},
     "output_type": "execute_result"
    }
   ],
   "source": [
    " s[5:]"
   ]
  },
  {
   "cell_type": "markdown",
   "id": "35eaab1a",
   "metadata": {},
   "source": [
    "# Python Lists\n",
    "\n",
    "Lists are used to store multiple items in a single variable.\n",
    "\n",
    "Lists are one of 4 built-in data types in Python used to store collections of data, the other 3 are Tuple, Set, and Dictionary, all with different qualities and usage.\n",
    "\n",
    "Lists are created using square brackets:"
   ]
  },
  {
   "cell_type": "code",
   "execution_count": 6,
   "id": "d4493c25",
   "metadata": {},
   "outputs": [
    {
     "name": "stdout",
     "output_type": "stream",
     "text": [
      "4.9\n"
     ]
    }
   ],
   "source": [
    "a = [10, 4.9, \"Yash\"]\n",
    "print(a[1])               #print first index "
   ]
  },
  {
   "cell_type": "markdown",
   "id": "4bee0d07",
   "metadata": {},
   "source": [
    "List items are ordered, changeable, and allow duplicate values.\n",
    "\n",
    "List items are indexed, the first item has index [0], the second item has index [1] etc."
   ]
  },
  {
   "cell_type": "code",
   "execution_count": 7,
   "id": "3ab8a3e0",
   "metadata": {},
   "outputs": [
    {
     "name": "stdout",
     "output_type": "stream",
     "text": [
      "[10, 45.78, 'Yash']\n"
     ]
    }
   ],
   "source": [
    "a[1] = 45.78\n",
    "print(a)"
   ]
  },
  {
   "cell_type": "markdown",
   "id": "d2d11990",
   "metadata": {},
   "source": [
    "# Python tuples\n",
    "\n",
    "A Tuple is a collection of Python objects separated by commas. In someways a tuple is similar to a list in terms of indexing, nested objects and repetition but a tuple is immutable unlike lists which are mutable."
   ]
  },
  {
   "cell_type": "code",
   "execution_count": 8,
   "id": "f197d007",
   "metadata": {},
   "outputs": [],
   "source": [
    "z = (1, 1.4, \"AI\")"
   ]
  },
  {
   "cell_type": "code",
   "execution_count": 10,
   "id": "dab8d518",
   "metadata": {},
   "outputs": [
    {
     "name": "stdout",
     "output_type": "stream",
     "text": [
      "1.4\n"
     ]
    }
   ],
   "source": [
    "print(z[1])             #print paticular element"
   ]
  },
  {
   "cell_type": "code",
   "execution_count": 11,
   "id": "56736945",
   "metadata": {},
   "outputs": [
    {
     "ename": "TypeError",
     "evalue": "'tuple' object does not support item assignment",
     "output_type": "error",
     "traceback": [
      "\u001b[1;31m---------------------------------------------------------------------------\u001b[0m",
      "\u001b[1;31mTypeError\u001b[0m                                 Traceback (most recent call last)",
      "\u001b[1;32m<ipython-input-11-4fd0cf336da7>\u001b[0m in \u001b[0;36m<module>\u001b[1;34m\u001b[0m\n\u001b[1;32m----> 1\u001b[1;33m \u001b[0mz\u001b[0m\u001b[1;33m[\u001b[0m\u001b[1;36m1\u001b[0m\u001b[1;33m]\u001b[0m \u001b[1;33m=\u001b[0m \u001b[1;36m1.34\u001b[0m\u001b[1;33m\u001b[0m\u001b[1;33m\u001b[0m\u001b[0m\n\u001b[0m",
      "\u001b[1;31mTypeError\u001b[0m: 'tuple' object does not support item assignment"
     ]
    }
   ],
   "source": [
    "z[1] = 1.34"
   ]
  },
  {
   "cell_type": "markdown",
   "id": "d89496a4",
   "metadata": {},
   "source": [
    "# Python Sets\n",
    "\n",
    "Sets are used to store multiple items in a single variable.\n",
    "\n",
    "Set is one of 4 built-in data types in Python used to store collections of data, the other 3 are List, Tuple, and Dictionary, all with different qualities and usage.\n",
    "\n",
    "A set is a collection which is unordered, unchangeable*, and unindexed."
   ]
  },
  {
   "cell_type": "code",
   "execution_count": 12,
   "id": "f4ad3996",
   "metadata": {},
   "outputs": [
    {
     "name": "stdout",
     "output_type": "stream",
     "text": [
      "{800, 1, 500, 90000}\n"
     ]
    }
   ],
   "source": [
    "a = {800, 500, 90000, 1}\n",
    "print(a)"
   ]
  },
  {
   "cell_type": "code",
   "execution_count": 13,
   "id": "86455de4",
   "metadata": {},
   "outputs": [
    {
     "name": "stdout",
     "output_type": "stream",
     "text": [
      "<class 'set'>\n"
     ]
    }
   ],
   "source": [
    "print(type(a))        #print type of a"
   ]
  },
  {
   "cell_type": "code",
   "execution_count": 14,
   "id": "cfca5a17",
   "metadata": {},
   "outputs": [
    {
     "name": "stdout",
     "output_type": "stream",
     "text": [
      "{800, 1, 500, 90000}\n"
     ]
    }
   ],
   "source": [
    "a = {800, 500, 90000, 1, 800, 500, 90000, 1,}\n",
    "print(a)                             #automatecally set deletes duplicates"
   ]
  },
  {
   "cell_type": "code",
   "execution_count": 16,
   "id": "2443fb8c",
   "metadata": {},
   "outputs": [
    {
     "ename": "TypeError",
     "evalue": "'set' object is not subscriptable",
     "output_type": "error",
     "traceback": [
      "\u001b[1;31m---------------------------------------------------------------------------\u001b[0m",
      "\u001b[1;31mTypeError\u001b[0m                                 Traceback (most recent call last)",
      "\u001b[1;32m<ipython-input-16-c3317c869944>\u001b[0m in \u001b[0;36m<module>\u001b[1;34m\u001b[0m\n\u001b[1;32m----> 1\u001b[1;33m \u001b[0mprint\u001b[0m\u001b[1;33m(\u001b[0m\u001b[0ma\u001b[0m\u001b[1;33m[\u001b[0m\u001b[1;36m1\u001b[0m\u001b[1;33m]\u001b[0m\u001b[1;33m)\u001b[0m           \u001b[1;31m# we can't print particualr elements in set cause it's unorder collections of items\u001b[0m\u001b[1;33m\u001b[0m\u001b[1;33m\u001b[0m\u001b[0m\n\u001b[0m",
      "\u001b[1;31mTypeError\u001b[0m: 'set' object is not subscriptable"
     ]
    }
   ],
   "source": [
    "print(a[1])           # we can't print particualr elements in set cause it's unorder collections of items"
   ]
  },
  {
   "cell_type": "markdown",
   "id": "9c48c715",
   "metadata": {},
   "source": [
    "# Python Dictionaries\n",
    "\n",
    "Dictionaries are used to store data values in key:value pairs.\n",
    "\n",
    "A dictionary is a collection which is ordered*, changeable and do not allow duplicates.\n",
    "\n",
    "As of Python version 3.7, dictionaries are ordered. In Python 3.6 and earlier, dictionaries are unordered.\n",
    "\n",
    "Dictionaries are written with curly brackets, and have keys and values:"
   ]
  },
  {
   "cell_type": "code",
   "execution_count": 18,
   "id": "3c436d5e",
   "metadata": {},
   "outputs": [
    {
     "name": "stdout",
     "output_type": "stream",
     "text": [
      "apple\n"
     ]
    }
   ],
   "source": [
    "d = {'a' : \"apple\" , 'b' : \"bat\"}\n",
    "print(d['a'])"
   ]
  },
  {
   "cell_type": "markdown",
   "id": "a2596940",
   "metadata": {},
   "source": [
    "# Conversions between data types\n",
    "\n",
    "we can convert different data types by using different type conversion functions like int(), float(). str()"
   ]
  },
  {
   "cell_type": "code",
   "execution_count": 19,
   "id": "4fd89acf",
   "metadata": {},
   "outputs": [
    {
     "data": {
      "text/plain": [
       "5.0"
      ]
     },
     "execution_count": 19,
     "metadata": {},
     "output_type": "execute_result"
    }
   ],
   "source": [
    "float(5)       #convert integer to float using float()"
   ]
  },
  {
   "cell_type": "code",
   "execution_count": 20,
   "id": "b29c56b2",
   "metadata": {},
   "outputs": [
    {
     "data": {
      "text/plain": [
       "7"
      ]
     },
     "execution_count": 20,
     "metadata": {},
     "output_type": "execute_result"
    }
   ],
   "source": [
    "int(7.10)     #convert float to integer using int()"
   ]
  },
  {
   "cell_type": "code",
   "execution_count": 21,
   "id": "36470257",
   "metadata": {},
   "outputs": [
    {
     "data": {
      "text/plain": [
       "'20'"
      ]
     },
     "execution_count": 21,
     "metadata": {},
     "output_type": "execute_result"
    }
   ],
   "source": [
    "str('20')    #convert int to string "
   ]
  },
  {
   "cell_type": "markdown",
   "id": "878e06d4",
   "metadata": {},
   "source": [
    "conversion to and from string must contain compatible values."
   ]
  },
  {
   "cell_type": "code",
   "execution_count": 23,
   "id": "9b707b38",
   "metadata": {},
   "outputs": [
    {
     "data": {
      "text/plain": [
       "10"
      ]
     },
     "execution_count": 23,
     "metadata": {},
     "output_type": "execute_result"
    }
   ],
   "source": [
    "int('10')"
   ]
  },
  {
   "cell_type": "code",
   "execution_count": 25,
   "id": "a1f97db6",
   "metadata": {},
   "outputs": [
    {
     "name": "stdout",
     "output_type": "stream",
     "text": [
      "congatulations, Yash!you just wrote1000lines of code\n"
     ]
    }
   ],
   "source": [
    "user = \"Yash\"\n",
    "lines = 1000\n",
    "\n",
    "print(\"congatulations, \" + user + \"!you just wrote\" + str(lines) + \"lines of code\")"
   ]
  },
  {
   "cell_type": "markdown",
   "id": "d18d0a3f",
   "metadata": {},
   "source": [
    "we can convert one sequence to other "
   ]
  },
  {
   "cell_type": "code",
   "execution_count": 27,
   "id": "46d443bf",
   "metadata": {},
   "outputs": [
    {
     "name": "stdout",
     "output_type": "stream",
     "text": [
      "<class 'list'>\n",
      "<class 'set'>\n"
     ]
    }
   ],
   "source": [
    "a = [1, 2, 3]\n",
    "print(type(a))  #type of a list \n",
    "\n",
    "s = set(a)\n",
    "print(type(s))   #now type of s is a set "
   ]
  },
  {
   "cell_type": "code",
   "execution_count": 28,
   "id": "87807286",
   "metadata": {},
   "outputs": [
    {
     "data": {
      "text/plain": [
       "['H', 'e', 'l', 'l', 'o']"
      ]
     },
     "execution_count": 28,
     "metadata": {},
     "output_type": "execute_result"
    }
   ],
   "source": [
    "list(\"Hello\")   #convert string to list using list() method"
   ]
  }
 ],
 "metadata": {
  "kernelspec": {
   "display_name": "Python 3",
   "language": "python",
   "name": "python3"
  },
  "language_info": {
   "codemirror_mode": {
    "name": "ipython",
    "version": 3
   },
   "file_extension": ".py",
   "mimetype": "text/x-python",
   "name": "python",
   "nbconvert_exporter": "python",
   "pygments_lexer": "ipython3",
   "version": "3.8.8"
  }
 },
 "nbformat": 4,
 "nbformat_minor": 5
}
