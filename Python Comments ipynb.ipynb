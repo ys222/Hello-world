{
 "cells": [
  {
   "cell_type": "markdown",
   "id": "b5a170fd",
   "metadata": {},
   "source": [
    "# Python Comments\n",
    "\n",
    "Comments are line that exist in program that are ignored by compiler and interpreters.\n",
    "Comments are the useful information that the developers provide to make the reader understand the source code.\n",
    "Comments are usually helpful to someone maintaining or enhancing your code when you are no longer around to answer questions about it. These are often cited as a useful programming convention that does not take part in the output of the program but improves the readability of the whole program.\n",
    "\n",
    "\n",
    "In python we use (#) symbol to start writing comments."
   ]
  },
  {
   "cell_type": "code",
   "execution_count": 1,
   "id": "783b77e8",
   "metadata": {},
   "outputs": [
    {
     "name": "stdout",
     "output_type": "stream",
     "text": [
      "Hello world!\n"
     ]
    }
   ],
   "source": [
    "# print hello world to console\n",
    "print('Hello world!')"
   ]
  },
  {
   "cell_type": "markdown",
   "id": "33a85baf",
   "metadata": {},
   "source": [
    "# Multilines Comments\n",
    "\n",
    "If we have comments that goes to multiple line, one way to use is (#)."
   ]
  },
  {
   "cell_type": "code",
   "execution_count": 2,
   "id": "7013d1ae",
   "metadata": {},
   "outputs": [],
   "source": [
    "# This is the comment\n",
    "# you have to write comment\n",
    "# To understand the code proper"
   ]
  },
  {
   "cell_type": "markdown",
   "id": "69b03c38",
   "metadata": {},
   "source": [
    "Another way of doing it is use tripel quotes either ''' or \"\"\" ."
   ]
  },
  {
   "cell_type": "code",
   "execution_count": 3,
   "id": "626431da",
   "metadata": {},
   "outputs": [
    {
     "data": {
      "text/plain": [
       "' This is the comment\\n you have to write comment\\n To understand the code proper'"
      ]
     },
     "execution_count": 3,
     "metadata": {},
     "output_type": "execute_result"
    }
   ],
   "source": [
    "''' This is the comment\n",
    " you have to write comment\n",
    " To understand the code proper'''"
   ]
  },
  {
   "cell_type": "markdown",
   "id": "e8934c52",
   "metadata": {},
   "source": [
    "# Python Indentation\n",
    "\n",
    " Most of the programming languages like C, C++, Java use braces { } to define a block of code.\n",
    "  One of the distinctive features of Python is its use of indentation to highlighting the blocks of code. Whitespace is used for indentation in Python.\n",
    "  All statements with the same distance to the right belong to the same block of code. If a block has to be more deeply nested, it is simply indented further to the right"
   ]
  },
  {
   "cell_type": "code",
   "execution_count": 4,
   "id": "255e3116",
   "metadata": {},
   "outputs": [
    {
     "name": "stdout",
     "output_type": "stream",
     "text": [
      "0\n",
      "1\n",
      "2\n",
      "3\n",
      "4\n",
      "5\n",
      "6\n",
      "7\n",
      "8\n",
      "9\n"
     ]
    }
   ],
   "source": [
    "for i in range (10) : #we will look at the loop in later.\n",
    "    print (i)"
   ]
  },
  {
   "cell_type": "markdown",
   "id": "92d2f1ae",
   "metadata": {},
   "source": [
    "Identination can be ignored in line continuation. But its good idea to always ident. it makes code more readable."
   ]
  },
  {
   "cell_type": "code",
   "execution_count": 2,
   "id": "3ee47734",
   "metadata": {},
   "outputs": [
    {
     "name": "stdout",
     "output_type": "stream",
     "text": [
      "Machine Learning\n"
     ]
    }
   ],
   "source": [
    "if True :\n",
    "    print(\"Machine Learning\")\n",
    "    c = \"AAIC\"\n",
    "    "
   ]
  },
  {
   "cell_type": "code",
   "execution_count": 3,
   "id": "9a9fa1a5",
   "metadata": {},
   "outputs": [
    {
     "name": "stdout",
     "output_type": "stream",
     "text": [
      "Machine Learning\n"
     ]
    }
   ],
   "source": [
    "if True :\n",
    "    print(\"Machine Learning\"); C = \"AAIC\""
   ]
  },
  {
   "cell_type": "markdown",
   "id": "c802f2b3",
   "metadata": {},
   "source": [
    "# Python Statements\n",
    "\n",
    "Instructions written in the source code for execution are called statements. There are different types of statements in the Python programming language like Assignment statements, Conditional statements, Looping statements, etc."
   ]
  },
  {
   "cell_type": "code",
   "execution_count": null,
   "id": "21a6cd2b",
   "metadata": {},
   "outputs": [],
   "source": [
    "a = 1; # Single Statement"
   ]
  },
  {
   "cell_type": "markdown",
   "id": "64bb8748",
   "metadata": {},
   "source": [
    "# Multilines Statements\n",
    "\n",
    "The newline character marks the end of the statement. If the statement is very long, we can explicitly divide into multiple lines with the line continuation character (\\)."
   ]
  },
  {
   "cell_type": "code",
   "execution_count": 1,
   "id": "6e6c0a56",
   "metadata": {},
   "outputs": [],
   "source": [
    "a = 1 + 2 + 3 + 4 + \\\n",
    "    5 + 6 + 7+ \\\n",
    "    8"
   ]
  },
  {
   "cell_type": "code",
   "execution_count": 2,
   "id": "0c0fce16",
   "metadata": {},
   "outputs": [
    {
     "name": "stdout",
     "output_type": "stream",
     "text": [
      "36\n"
     ]
    }
   ],
   "source": [
    "print(a)"
   ]
  },
  {
   "cell_type": "code",
   "execution_count": 3,
   "id": "b9df2f92",
   "metadata": {},
   "outputs": [
    {
     "name": "stdout",
     "output_type": "stream",
     "text": [
      "36\n"
     ]
    }
   ],
   "source": [
    "# in other ways use is Paranthesis\n",
    "a = (1 + 2 + 3 + 4 +\n",
    "     5 + 6 + 7 + 8)\n",
    "print(a)"
   ]
  },
  {
   "cell_type": "code",
   "execution_count": 4,
   "id": "02a1e482",
   "metadata": {},
   "outputs": [],
   "source": [
    "a = 10; b = 20; c = 30;  #Put multiple statement in single line using ;"
   ]
  },
  {
   "cell_type": "code",
   "execution_count": null,
   "id": "ac77b41b",
   "metadata": {},
   "outputs": [],
   "source": []
  }
 ],
 "metadata": {
  "kernelspec": {
   "display_name": "Python 3",
   "language": "python",
   "name": "python3"
  },
  "language_info": {
   "codemirror_mode": {
    "name": "ipython",
    "version": 3
   },
   "file_extension": ".py",
   "mimetype": "text/x-python",
   "name": "python",
   "nbconvert_exporter": "python",
   "pygments_lexer": "ipython3",
   "version": "3.8.8"
  }
 },
 "nbformat": 4,
 "nbformat_minor": 5
}
