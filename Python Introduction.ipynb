{
 "cells": [
  {
   "cell_type": "markdown",
   "id": "b4b5e238",
   "metadata": {},
   "source": [
    "# Python Introduction"
   ]
  },
  {
   "cell_type": "markdown",
   "id": "a7f0a838",
   "metadata": {},
   "source": [
    "# What is Python?\n",
    "Python is a popular programming language. It was created by Guido van Rossum, and released in 1991.\n",
    "\n",
    "It is used for:\n",
    "\n",
    "web development (server-side),\n",
    "software development,\n",
    "mathematics,\n",
    "system scripting."
   ]
  },
  {
   "cell_type": "markdown",
   "id": "7229379b",
   "metadata": {},
   "source": [
    "# What can Python do?\n",
    "Python can be used on a server to create web applications.\n",
    "Python can be used alongside software to create workflows.\n",
    "Python can connect to database systems. It can also read and modify files.\n",
    "Python can be used to handle big data and perform complex mathematics.\n",
    "Python can be used for rapid prototyping, or for production-ready software development."
   ]
  },
  {
   "cell_type": "markdown",
   "id": "cd40d29e",
   "metadata": {},
   "source": [
    "# Why Python?\n",
    "Python works on different platforms (Windows, Mac, Linux, Raspberry Pi, etc).\n",
    "Python has a simple syntax similar to the English language.\n",
    "Python has syntax that allows developers to write programs with fewer lines than some other programming languages.\n",
    "Python runs on an interpreter system, meaning that code can be executed as soon as it is written. This means that prototyping can be very quick.\n",
    "Python can be treated in a procedural way, an object-oriented way or a functional way."
   ]
  },
  {
   "cell_type": "markdown",
   "id": "cf5ca1d6",
   "metadata": {},
   "source": [
    "# Good to know\n",
    "The most recent major version of Python is Python 3, which we shall be using in this tutorial. However, Python 2, although not being updated with anything other than security updates, is still quite popular.\n",
    "In this tutorial Python will be written in a text editor. It is possible to write Python in an Integrated Development Environment, such as Thonny, Pycharm, Netbeans or Eclipse which are particularly useful when managing larger collections of Python files."
   ]
  },
  {
   "cell_type": "markdown",
   "id": "caff7e88",
   "metadata": {},
   "source": [
    "# Python Syntax compared to other programming languages\n",
    "Python was designed for readability, and has some similarities to the English language with influence from mathematics.\n",
    "Python uses new lines to complete a command, as opposed to other programming languages which often use semicolons or parentheses.\n",
    "Python relies on indentation, using whitespace, to define scope; such as the scope of loops, functions and classes. Other programming languages often use curly-brackets for this purpose."
   ]
  },
  {
   "cell_type": "code",
   "execution_count": 1,
   "id": "c9fc4ca9",
   "metadata": {},
   "outputs": [
    {
     "name": "stdout",
     "output_type": "stream",
     "text": [
      "Hello, World!\n"
     ]
    }
   ],
   "source": [
    "# Example\n",
    "print(\"Hello, World!\")"
   ]
  },
  {
   "cell_type": "markdown",
   "id": "8a84e3f5",
   "metadata": {},
   "source": [
    "# Why Python\n",
    "\n",
    "Very Simple Language to learn. Best Packages for Artificial Intelligence like matplotlib, numpy, scipy, scikit_learn, Tensorflow.\n",
    "iPython notebooks for interactive Data Analysis and modelling.\n",
    "Extensivily used in the industry."
   ]
  },
  {
   "cell_type": "markdown",
   "id": "d826a562",
   "metadata": {},
   "source": []
  }
 ],
 "metadata": {
  "kernelspec": {
   "display_name": "Python 3",
   "language": "python",
   "name": "python3"
  },
  "language_info": {
   "codemirror_mode": {
    "name": "ipython",
    "version": 3
   },
   "file_extension": ".py",
   "mimetype": "text/x-python",
   "name": "python",
   "nbconvert_exporter": "python",
   "pygments_lexer": "ipython3",
   "version": "3.8.8"
  }
 },
 "nbformat": 4,
 "nbformat_minor": 5
}
